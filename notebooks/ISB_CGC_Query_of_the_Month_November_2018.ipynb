{
 "cells": [
  {
   "cell_type": "markdown",
   "metadata": {
    "colab_type": "text",
    "id": "view-in-github"
   },
   "source": [
    "<a href=\"https://colab.research.google.com/github/isb-cgc/examples-Python/blob/master/ISB_CGC_Query_of_the_Month_November_2018.ipynb\" target=\"_parent\"><img src=\"https://colab.research.google.com/assets/colab-badge.svg\" alt=\"Open In Colab\"/></a>"
   ]
  },
  {
   "cell_type": "markdown",
   "metadata": {
    "colab_type": "text",
    "id": "V6hHrkja94oQ"
   },
   "source": [
    "# **ISB-CGC Query of the Month, November 2018**\n",
    "- Kawther Abdilleh, David L Gibbs\n",
    "\n",
    "For more Queries:  https://isb-cancer-genomics-cloud.readthedocs.io/en/latest/sections/QueryOfTheMonthClub.html\n",
    "\n",
    "Part of the ISB-CGC:  http://www.isb-cgc.org \n",
    " "
   ]
  },
  {
   "cell_type": "markdown",
   "metadata": {
    "colab_type": "text",
    "id": "n97tZmtc93Vf"
   },
   "source": [
    "### First we need to get authenticated.  If you don't have a Google Cloud project, see https://cloud.google.com/dataproc/docs/guides/setup-project.  There's $300 free credit available for new accounts!\n"
   ]
  },
  {
   "cell_type": "code",
   "execution_count": 1,
   "metadata": {
    "colab": {},
    "colab_type": "code",
    "id": "FyrcP8Zs-VkB"
   },
   "outputs": [],
   "source": [
    "# deflaux@ commented out this code 20201217\n",
    "# Terra takes care of auth for you.\n",
    "\n",
    "#from google.colab import auth\n",
    "#auth.authenticate_user()\n",
    "#print('Authenticated')"
   ]
  },
  {
   "cell_type": "code",
   "execution_count": 2,
   "metadata": {},
   "outputs": [],
   "source": [
    "# deflaux@ added this cell 20201217\n",
    "\n",
    "import os\n",
    "import pandas as pd\n",
    "\n",
    "%load_ext google.cloud.bigquery\n",
    "project_id = os.getenv('GOOGLE_PROJECT')"
   ]
  },
  {
   "cell_type": "markdown",
   "metadata": {
    "colab_type": "text",
    "id": "N9GQYflzapa9"
   },
   "source": [
    "### ** Let's begin by querying our newly transformed vcf table, containing variants for the human chromosome 21. **\n",
    "\n",
    "For instructions on the BigQuery transformation see: https://isb-cancer-genomics-cloud.readthedocs.io/en/latest/sections/QueryOfTheMonthClub.html\n",
    "\n",
    "This first query demonstrates the 'magic' %%bigquery command. "
   ]
  },
  {
   "cell_type": "code",
   "execution_count": 3,
   "metadata": {
    "colab": {
     "base_uri": "https://localhost:8080/",
     "height": 359
    },
    "colab_type": "code",
    "id": "FhNcRp87-uMe",
    "outputId": "efbed783-069f-4329-9c6b-d3ff16bfe05b"
   },
   "outputs": [],
   "source": [
    "%%bigquery df --project $project_id\n",
    "# deflaux@ changed this from a hardcoded project id to a parameter 20201217\n",
    "select \n",
    "  reference_name,\n",
    "  start_position,\n",
    "  end_position\n",
    "from\n",
    "  `isb-cgc.QotM.1000genomes`\n",
    "limit \n",
    "  10"
   ]
  },
  {
   "cell_type": "code",
   "execution_count": 4,
   "metadata": {},
   "outputs": [
    {
     "data": {
      "text/html": [
       "<div>\n",
       "<style scoped>\n",
       "    .dataframe tbody tr th:only-of-type {\n",
       "        vertical-align: middle;\n",
       "    }\n",
       "\n",
       "    .dataframe tbody tr th {\n",
       "        vertical-align: top;\n",
       "    }\n",
       "\n",
       "    .dataframe thead th {\n",
       "        text-align: right;\n",
       "    }\n",
       "</style>\n",
       "<table border=\"1\" class=\"dataframe\">\n",
       "  <thead>\n",
       "    <tr style=\"text-align: right;\">\n",
       "      <th></th>\n",
       "      <th>reference_name</th>\n",
       "      <th>start_position</th>\n",
       "      <th>end_position</th>\n",
       "    </tr>\n",
       "  </thead>\n",
       "  <tbody>\n",
       "    <tr>\n",
       "      <th>0</th>\n",
       "      <td>21</td>\n",
       "      <td>34466727</td>\n",
       "      <td>34466728</td>\n",
       "    </tr>\n",
       "    <tr>\n",
       "      <th>1</th>\n",
       "      <td>21</td>\n",
       "      <td>34472050</td>\n",
       "      <td>34472051</td>\n",
       "    </tr>\n",
       "    <tr>\n",
       "      <th>2</th>\n",
       "      <td>21</td>\n",
       "      <td>34434667</td>\n",
       "      <td>34434668</td>\n",
       "    </tr>\n",
       "    <tr>\n",
       "      <th>3</th>\n",
       "      <td>21</td>\n",
       "      <td>34425328</td>\n",
       "      <td>34425329</td>\n",
       "    </tr>\n",
       "    <tr>\n",
       "      <th>4</th>\n",
       "      <td>21</td>\n",
       "      <td>34455811</td>\n",
       "      <td>34455812</td>\n",
       "    </tr>\n",
       "    <tr>\n",
       "      <th>5</th>\n",
       "      <td>21</td>\n",
       "      <td>34450214</td>\n",
       "      <td>34450215</td>\n",
       "    </tr>\n",
       "    <tr>\n",
       "      <th>6</th>\n",
       "      <td>21</td>\n",
       "      <td>34452189</td>\n",
       "      <td>34452190</td>\n",
       "    </tr>\n",
       "    <tr>\n",
       "      <th>7</th>\n",
       "      <td>21</td>\n",
       "      <td>34484539</td>\n",
       "      <td>34484540</td>\n",
       "    </tr>\n",
       "    <tr>\n",
       "      <th>8</th>\n",
       "      <td>21</td>\n",
       "      <td>34440876</td>\n",
       "      <td>34440877</td>\n",
       "    </tr>\n",
       "    <tr>\n",
       "      <th>9</th>\n",
       "      <td>21</td>\n",
       "      <td>34465069</td>\n",
       "      <td>34465070</td>\n",
       "    </tr>\n",
       "  </tbody>\n",
       "</table>\n",
       "</div>"
      ],
      "text/plain": [
       "  reference_name  start_position  end_position\n",
       "0             21        34466727      34466728\n",
       "1             21        34472050      34472051\n",
       "2             21        34434667      34434668\n",
       "3             21        34425328      34425329\n",
       "4             21        34455811      34455812\n",
       "5             21        34450214      34450215\n",
       "6             21        34452189      34452190\n",
       "7             21        34484539      34484540\n",
       "8             21        34440876      34440877\n",
       "9             21        34465069      34465070"
      ]
     },
     "execution_count": 4,
     "metadata": {},
     "output_type": "execute_result"
    }
   ],
   "source": [
    "# deflaux@ added this cell 20201217\n",
    "# newer versions of the BigQuery magic do not display any data returned if a dataframe parameter is provided\n",
    "\n",
    "df"
   ]
  },
  {
   "cell_type": "markdown",
   "metadata": {
    "colab_type": "text",
    "id": "mIESR-bL_nsf"
   },
   "source": [
    "### **Colaboratory notebooks allow us to leverage the power of Python and use pandas to create & save queries to datatables. **"
   ]
  },
  {
   "cell_type": "code",
   "execution_count": 5,
   "metadata": {
    "colab": {
     "base_uri": "https://localhost:8080/",
     "height": 204
    },
    "colab_type": "code",
    "id": "rF1p92ah_m6V",
    "outputId": "544b0ecd-cf68-4c5d-e41d-338d1224169b"
   },
   "outputs": [
    {
     "data": {
      "text/html": [
       "<div>\n",
       "<style scoped>\n",
       "    .dataframe tbody tr th:only-of-type {\n",
       "        vertical-align: middle;\n",
       "    }\n",
       "\n",
       "    .dataframe tbody tr th {\n",
       "        vertical-align: top;\n",
       "    }\n",
       "\n",
       "    .dataframe thead th {\n",
       "        text-align: right;\n",
       "    }\n",
       "</style>\n",
       "<table border=\"1\" class=\"dataframe\">\n",
       "  <thead>\n",
       "    <tr style=\"text-align: right;\">\n",
       "      <th></th>\n",
       "      <th>chr</th>\n",
       "      <th>start_position</th>\n",
       "      <th>end_position</th>\n",
       "    </tr>\n",
       "  </thead>\n",
       "  <tbody>\n",
       "    <tr>\n",
       "      <th>0</th>\n",
       "      <td>21</td>\n",
       "      <td>34466727</td>\n",
       "      <td>34466728</td>\n",
       "    </tr>\n",
       "    <tr>\n",
       "      <th>1</th>\n",
       "      <td>21</td>\n",
       "      <td>34472050</td>\n",
       "      <td>34472051</td>\n",
       "    </tr>\n",
       "    <tr>\n",
       "      <th>2</th>\n",
       "      <td>21</td>\n",
       "      <td>34434667</td>\n",
       "      <td>34434668</td>\n",
       "    </tr>\n",
       "    <tr>\n",
       "      <th>3</th>\n",
       "      <td>21</td>\n",
       "      <td>34425328</td>\n",
       "      <td>34425329</td>\n",
       "    </tr>\n",
       "    <tr>\n",
       "      <th>4</th>\n",
       "      <td>21</td>\n",
       "      <td>34455811</td>\n",
       "      <td>34455812</td>\n",
       "    </tr>\n",
       "  </tbody>\n",
       "</table>\n",
       "</div>"
      ],
      "text/plain": [
       "  chr  start_position  end_position\n",
       "0  21        34466727      34466728\n",
       "1  21        34472050      34472051\n",
       "2  21        34434667      34434668\n",
       "3  21        34425328      34425329\n",
       "4  21        34455811      34455812"
      ]
     },
     "execution_count": 5,
     "metadata": {},
     "output_type": "execute_result"
    }
   ],
   "source": [
    "\n",
    "df = pd.io.gbq.read_gbq('''\n",
    "select \n",
    "  reference_name as chr,\n",
    "  start_position,\n",
    "  end_position\n",
    "from\n",
    "  `isb-cgc.QotM.1000genomes`\n",
    "limit \n",
    "  10\n",
    "''', project_id=project_id, verbose=False, dialect='standard')\n",
    "\n",
    "df.head()"
   ]
  },
  {
   "cell_type": "markdown",
   "metadata": {
    "colab_type": "text",
    "id": "b7s98d_UBQvx"
   },
   "source": [
    "### **We can filter variants so that we have variants with only a single alternate base.  The alternate base is a RECORD type, which means it could have a list of variants.  Here we use the ARRAY_LENGTH keyword**\n"
   ]
  },
  {
   "cell_type": "code",
   "execution_count": 6,
   "metadata": {
    "colab": {
     "base_uri": "https://localhost:8080/",
     "height": 204
    },
    "colab_type": "code",
    "id": "ji9ODMVIBUIw",
    "outputId": "46c9ff1f-500d-465e-982c-a803161f32e9"
   },
   "outputs": [
    {
     "data": {
      "text/html": [
       "<div>\n",
       "<style scoped>\n",
       "    .dataframe tbody tr th:only-of-type {\n",
       "        vertical-align: middle;\n",
       "    }\n",
       "\n",
       "    .dataframe tbody tr th {\n",
       "        vertical-align: top;\n",
       "    }\n",
       "\n",
       "    .dataframe thead th {\n",
       "        text-align: right;\n",
       "    }\n",
       "</style>\n",
       "<table border=\"1\" class=\"dataframe\">\n",
       "  <thead>\n",
       "    <tr style=\"text-align: right;\">\n",
       "      <th></th>\n",
       "      <th>start_position</th>\n",
       "      <th>reference_name</th>\n",
       "      <th>original</th>\n",
       "      <th>alt</th>\n",
       "    </tr>\n",
       "  </thead>\n",
       "  <tbody>\n",
       "    <tr>\n",
       "      <th>0</th>\n",
       "      <td>34425328</td>\n",
       "      <td>21</td>\n",
       "      <td>G</td>\n",
       "      <td>GA</td>\n",
       "    </tr>\n",
       "    <tr>\n",
       "      <th>1</th>\n",
       "      <td>34455811</td>\n",
       "      <td>21</td>\n",
       "      <td>T</td>\n",
       "      <td>TC</td>\n",
       "    </tr>\n",
       "    <tr>\n",
       "      <th>2</th>\n",
       "      <td>34452189</td>\n",
       "      <td>21</td>\n",
       "      <td>A</td>\n",
       "      <td>AT</td>\n",
       "    </tr>\n",
       "    <tr>\n",
       "      <th>3</th>\n",
       "      <td>34484539</td>\n",
       "      <td>21</td>\n",
       "      <td>C</td>\n",
       "      <td>CTT</td>\n",
       "    </tr>\n",
       "    <tr>\n",
       "      <th>4</th>\n",
       "      <td>34465069</td>\n",
       "      <td>21</td>\n",
       "      <td>T</td>\n",
       "      <td>TC</td>\n",
       "    </tr>\n",
       "  </tbody>\n",
       "</table>\n",
       "</div>"
      ],
      "text/plain": [
       "   start_position reference_name original  alt\n",
       "0        34425328             21        G   GA\n",
       "1        34455811             21        T   TC\n",
       "2        34452189             21        A   AT\n",
       "3        34484539             21        C  CTT\n",
       "4        34465069             21        T   TC"
      ]
     },
     "execution_count": 6,
     "metadata": {},
     "output_type": "execute_result"
    }
   ],
   "source": [
    "\n",
    "df = pd.io.gbq.read_gbq('''\n",
    "#standardsql\n",
    "SELECT\n",
    "  start_position,\n",
    "  reference_name,\n",
    "  reference_bases AS original,\n",
    "  alternate_bases[ORDINAL(1)].alt AS alt\n",
    "FROM\n",
    "  `isb-cgc.QotM.1000genomes` AS v\n",
    "WHERE\n",
    "  ARRAY_LENGTH(alternate_bases) = 1\n",
    "LIMIT 10\n",
    "'''\n",
    ", project_id=project_id, verbose=False, dialect='standard')        \n",
    "   \n",
    "df.head()\n",
    "                        "
   ]
  },
  {
   "cell_type": "markdown",
   "metadata": {
    "colab_type": "text",
    "id": "E_V-KnXaDRun"
   },
   "source": [
    "### **Then, further narrow it down to SNPs (a single nucleotide change).**"
   ]
  },
  {
   "cell_type": "code",
   "execution_count": 7,
   "metadata": {
    "colab": {
     "base_uri": "https://localhost:8080/",
     "height": 204
    },
    "colab_type": "code",
    "id": "9fwuS1EhDLRw",
    "outputId": "ecc7d143-c363-4e1d-ebde-c34cbb29089c"
   },
   "outputs": [
    {
     "data": {
      "text/html": [
       "<div>\n",
       "<style scoped>\n",
       "    .dataframe tbody tr th:only-of-type {\n",
       "        vertical-align: middle;\n",
       "    }\n",
       "\n",
       "    .dataframe tbody tr th {\n",
       "        vertical-align: top;\n",
       "    }\n",
       "\n",
       "    .dataframe thead th {\n",
       "        text-align: right;\n",
       "    }\n",
       "</style>\n",
       "<table border=\"1\" class=\"dataframe\">\n",
       "  <thead>\n",
       "    <tr style=\"text-align: right;\">\n",
       "      <th></th>\n",
       "      <th>start_position</th>\n",
       "      <th>reference_name</th>\n",
       "      <th>original</th>\n",
       "      <th>changed</th>\n",
       "    </tr>\n",
       "  </thead>\n",
       "  <tbody>\n",
       "    <tr>\n",
       "      <th>0</th>\n",
       "      <td>9411238</td>\n",
       "      <td>21</td>\n",
       "      <td>G</td>\n",
       "      <td>A</td>\n",
       "    </tr>\n",
       "    <tr>\n",
       "      <th>1</th>\n",
       "      <td>9411244</td>\n",
       "      <td>21</td>\n",
       "      <td>C</td>\n",
       "      <td>A</td>\n",
       "    </tr>\n",
       "    <tr>\n",
       "      <th>2</th>\n",
       "      <td>9411263</td>\n",
       "      <td>21</td>\n",
       "      <td>A</td>\n",
       "      <td>C</td>\n",
       "    </tr>\n",
       "    <tr>\n",
       "      <th>3</th>\n",
       "      <td>9411266</td>\n",
       "      <td>21</td>\n",
       "      <td>G</td>\n",
       "      <td>T</td>\n",
       "    </tr>\n",
       "    <tr>\n",
       "      <th>4</th>\n",
       "      <td>9411301</td>\n",
       "      <td>21</td>\n",
       "      <td>G</td>\n",
       "      <td>T</td>\n",
       "    </tr>\n",
       "  </tbody>\n",
       "</table>\n",
       "</div>"
      ],
      "text/plain": [
       "   start_position reference_name original changed\n",
       "0         9411238             21        G       A\n",
       "1         9411244             21        C       A\n",
       "2         9411263             21        A       C\n",
       "3         9411266             21        G       T\n",
       "4         9411301             21        G       T"
      ]
     },
     "execution_count": 7,
     "metadata": {},
     "output_type": "execute_result"
    }
   ],
   "source": [
    "df = pd.io.gbq.read_gbq('''\n",
    "SELECT\n",
    "  start_position,\n",
    "  reference_name,\n",
    "  reference_bases AS original,\n",
    "  alternate_bases[ORDINAL(1)].alt AS changed\n",
    "FROM\n",
    "  `isb-cgc.QotM.1000genomes` AS v\n",
    "WHERE\n",
    "  ARRAY_LENGTH(alternate_bases) = 1\n",
    "  AND alternate_bases[ORDINAL(1)].alt IN ('A','C','G','T')\n",
    "ORDER BY start_position \n",
    "LIMIT 10\n",
    "''', project_id=project_id, verbose=False, dialect='standard')        \n",
    "   \n",
    "df.head()\n"
   ]
  },
  {
   "cell_type": "markdown",
   "metadata": {
    "colab_type": "text",
    "id": "OBSIw8VVDiXZ"
   },
   "source": [
    "### **What are the five most frequent mutations on chromosome 21? **"
   ]
  },
  {
   "cell_type": "code",
   "execution_count": 8,
   "metadata": {
    "colab": {
     "base_uri": "https://localhost:8080/",
     "height": 204
    },
    "colab_type": "code",
    "id": "xjTZi8kGuK4L",
    "outputId": "cc88334e-c592-40c1-db24-de0bc59d2c91"
   },
   "outputs": [
    {
     "data": {
      "text/html": [
       "<div>\n",
       "<style scoped>\n",
       "    .dataframe tbody tr th:only-of-type {\n",
       "        vertical-align: middle;\n",
       "    }\n",
       "\n",
       "    .dataframe tbody tr th {\n",
       "        vertical-align: top;\n",
       "    }\n",
       "\n",
       "    .dataframe thead th {\n",
       "        text-align: right;\n",
       "    }\n",
       "</style>\n",
       "<table border=\"1\" class=\"dataframe\">\n",
       "  <thead>\n",
       "    <tr style=\"text-align: right;\">\n",
       "      <th></th>\n",
       "      <th>mutation</th>\n",
       "      <th>num_mutations</th>\n",
       "    </tr>\n",
       "  </thead>\n",
       "  <tbody>\n",
       "    <tr>\n",
       "      <th>0</th>\n",
       "      <td>G-&gt;A</td>\n",
       "      <td>213081</td>\n",
       "    </tr>\n",
       "    <tr>\n",
       "      <th>1</th>\n",
       "      <td>C-&gt;T</td>\n",
       "      <td>212145</td>\n",
       "    </tr>\n",
       "    <tr>\n",
       "      <th>2</th>\n",
       "      <td>T-&gt;C</td>\n",
       "      <td>147252</td>\n",
       "    </tr>\n",
       "    <tr>\n",
       "      <th>3</th>\n",
       "      <td>A-&gt;G</td>\n",
       "      <td>141916</td>\n",
       "    </tr>\n",
       "    <tr>\n",
       "      <th>4</th>\n",
       "      <td>C-&gt;A</td>\n",
       "      <td>48410</td>\n",
       "    </tr>\n",
       "  </tbody>\n",
       "</table>\n",
       "</div>"
      ],
      "text/plain": [
       "  mutation  num_mutations\n",
       "0     G->A         213081\n",
       "1     C->T         212145\n",
       "2     T->C         147252\n",
       "3     A->G         141916\n",
       "4     C->A          48410"
      ]
     },
     "execution_count": 8,
     "metadata": {},
     "output_type": "execute_result"
    }
   ],
   "source": [
    "df = pd.io.gbq.read_gbq('''\n",
    "#standardsql\n",
    "WITH\n",
    "table1 AS (\n",
    "SELECT\n",
    "  start_position,\n",
    "  reference_name,\n",
    "  CONCAT( reference_bases, '->', alternate_bases[ORDINAL(1)].alt) AS mutation\n",
    "FROM\n",
    "  `isb-cgc.QotM.1000genomes` AS v\n",
    "WHERE\n",
    "  ARRAY_LENGTH(alternate_bases) = 1\n",
    "  AND alternate_bases[ORDINAL(1)].alt IN ('A','C','G','T')\n",
    ")\n",
    "\n",
    "SELECT\n",
    "  mutation,\n",
    "  COUNT(mutation) AS num_mutations\n",
    "FROM\n",
    "  table1\n",
    "GROUP BY mutation\n",
    "ORDER BY num_mutations DESC\n",
    "LIMIT 5\n",
    "\n",
    "''', project_id=project_id, verbose=False, dialect='standard')        \n",
    "   \n",
    "df.head()\n"
   ]
  },
  {
   "cell_type": "markdown",
   "metadata": {
    "colab_type": "text",
    "id": "89AdnC0YEDCo"
   },
   "source": [
    "### **Now, let's jump into a specific example. The gene DYRK1A on chromosome 21 has been shown to contribute to the development of leukemia.  Researchers are studying it as a potential theraputic target. DYRK1A resides on chromosome 21 from position 37365790 to 37517450. Let's explore variants in this gene. **\n",
    "\n",
    "\n"
   ]
  },
  {
   "cell_type": "code",
   "execution_count": 9,
   "metadata": {
    "colab": {
     "base_uri": "https://localhost:8080/",
     "height": 80
    },
    "colab_type": "code",
    "id": "7MEb7mADg-kI",
    "outputId": "62811d69-4de0-41d1-d778-98d97adc7d08"
   },
   "outputs": [
    {
     "data": {
      "text/html": [
       "<div>\n",
       "<style scoped>\n",
       "    .dataframe tbody tr th:only-of-type {\n",
       "        vertical-align: middle;\n",
       "    }\n",
       "\n",
       "    .dataframe tbody tr th {\n",
       "        vertical-align: top;\n",
       "    }\n",
       "\n",
       "    .dataframe thead th {\n",
       "        text-align: right;\n",
       "    }\n",
       "</style>\n",
       "<table border=\"1\" class=\"dataframe\">\n",
       "  <thead>\n",
       "    <tr style=\"text-align: right;\">\n",
       "      <th></th>\n",
       "      <th>num_variants</th>\n",
       "    </tr>\n",
       "  </thead>\n",
       "  <tbody>\n",
       "    <tr>\n",
       "      <th>0</th>\n",
       "      <td>4485</td>\n",
       "    </tr>\n",
       "  </tbody>\n",
       "</table>\n",
       "</div>"
      ],
      "text/plain": [
       "   num_variants\n",
       "0          4485"
      ]
     },
     "execution_count": 9,
     "metadata": {},
     "output_type": "execute_result"
    }
   ],
   "source": [
    "df = pd.io.gbq.read_gbq('''\n",
    "#standardsql\n",
    "SELECT\n",
    "  COUNT(reference_name) AS num_variants\n",
    "FROM\n",
    "  `isb-cgc.QotM.1000genomes` AS v\n",
    "WHERE\n",
    "  reference_name = '21'\n",
    "  AND start_position BETWEEN 37365790\n",
    "  AND 37517450\n",
    "  ''', project_id=project_id, verbose=False, dialect='standard')\n",
    "df.head()\n"
   ]
  },
  {
   "cell_type": "markdown",
   "metadata": {
    "colab_type": "text",
    "id": "u7BlVrstc5Zi"
   },
   "source": [
    "### **And how many samples do we have?**"
   ]
  },
  {
   "cell_type": "code",
   "execution_count": 10,
   "metadata": {
    "colab": {
     "base_uri": "https://localhost:8080/",
     "height": 80
    },
    "colab_type": "code",
    "id": "TTkWuwqec7jF",
    "outputId": "49dc532b-92fd-4014-8617-2372aca2112c"
   },
   "outputs": [
    {
     "data": {
      "text/html": [
       "<div>\n",
       "<style scoped>\n",
       "    .dataframe tbody tr th:only-of-type {\n",
       "        vertical-align: middle;\n",
       "    }\n",
       "\n",
       "    .dataframe tbody tr th {\n",
       "        vertical-align: top;\n",
       "    }\n",
       "\n",
       "    .dataframe thead th {\n",
       "        text-align: right;\n",
       "    }\n",
       "</style>\n",
       "<table border=\"1\" class=\"dataframe\">\n",
       "  <thead>\n",
       "    <tr style=\"text-align: right;\">\n",
       "      <th></th>\n",
       "      <th>num_samples</th>\n",
       "    </tr>\n",
       "  </thead>\n",
       "  <tbody>\n",
       "    <tr>\n",
       "      <th>0</th>\n",
       "      <td>2535</td>\n",
       "    </tr>\n",
       "  </tbody>\n",
       "</table>\n",
       "</div>"
      ],
      "text/plain": [
       "   num_samples\n",
       "0         2535"
      ]
     },
     "execution_count": 10,
     "metadata": {},
     "output_type": "execute_result"
    }
   ],
   "source": [
    "df = pd.io.gbq.read_gbq('''\n",
    "  SELECT\n",
    "    COUNT(DISTINCT(call.name)) as num_samples\n",
    "  FROM\n",
    "    `isb-cgc.QotM.1000genomes`\n",
    "  JOIN\n",
    "  UNNEST(call) AS call\n",
    "  WHERE\n",
    "    reference_name = '21'\n",
    "    AND (start_position BETWEEN 37365790 AND 37517450)\n",
    "   \n",
    "  ''', project_id=project_id, verbose=False, dialect='standard')\n",
    "df.head()\n",
    "\n",
    "  "
   ]
  },
  {
   "cell_type": "markdown",
   "metadata": {
    "colab_type": "text",
    "id": "CiGEgi07j2x-"
   },
   "source": [
    "### We have 2,535 samples and the total number of genomic positions mapping to the DYRK1A gene is 4,485. How many variants are there in this gene per sample? \n",
    "\n",
    "To answer this question, we'll need to start working with records. To do that, we'll build up to answering this question through a series of queries.\n",
    "\n",
    "Our first query will flatten the call record into three columns, the call.name, and both genotype calls (one for each chromosome), where a zero is the reference call, and an alternate call otherwise.  You can see most of the listed entries are actually just homozygous refs. "
   ]
  },
  {
   "cell_type": "code",
   "execution_count": 11,
   "metadata": {
    "colab": {
     "base_uri": "https://localhost:8080/",
     "height": 204
    },
    "colab_type": "code",
    "id": "wnvYVLlaZXR-",
    "outputId": "1db02674-ebb9-45b6-a4ea-c7651b5e9c29"
   },
   "outputs": [
    {
     "data": {
      "text/html": [
       "<div>\n",
       "<style scoped>\n",
       "    .dataframe tbody tr th:only-of-type {\n",
       "        vertical-align: middle;\n",
       "    }\n",
       "\n",
       "    .dataframe tbody tr th {\n",
       "        vertical-align: top;\n",
       "    }\n",
       "\n",
       "    .dataframe thead th {\n",
       "        text-align: right;\n",
       "    }\n",
       "</style>\n",
       "<table border=\"1\" class=\"dataframe\">\n",
       "  <thead>\n",
       "    <tr style=\"text-align: right;\">\n",
       "      <th></th>\n",
       "      <th>name</th>\n",
       "      <th>g1</th>\n",
       "      <th>g2</th>\n",
       "    </tr>\n",
       "  </thead>\n",
       "  <tbody>\n",
       "    <tr>\n",
       "      <th>0</th>\n",
       "      <td>HG00096</td>\n",
       "      <td>0</td>\n",
       "      <td>0</td>\n",
       "    </tr>\n",
       "    <tr>\n",
       "      <th>1</th>\n",
       "      <td>HG00097</td>\n",
       "      <td>0</td>\n",
       "      <td>0</td>\n",
       "    </tr>\n",
       "    <tr>\n",
       "      <th>2</th>\n",
       "      <td>HG00099</td>\n",
       "      <td>0</td>\n",
       "      <td>0</td>\n",
       "    </tr>\n",
       "    <tr>\n",
       "      <th>3</th>\n",
       "      <td>HG00100</td>\n",
       "      <td>0</td>\n",
       "      <td>0</td>\n",
       "    </tr>\n",
       "    <tr>\n",
       "      <th>4</th>\n",
       "      <td>HG00101</td>\n",
       "      <td>0</td>\n",
       "      <td>0</td>\n",
       "    </tr>\n",
       "  </tbody>\n",
       "</table>\n",
       "</div>"
      ],
      "text/plain": [
       "      name  g1  g2\n",
       "0  HG00096   0   0\n",
       "1  HG00097   0   0\n",
       "2  HG00099   0   0\n",
       "3  HG00100   0   0\n",
       "4  HG00101   0   0"
      ]
     },
     "execution_count": 11,
     "metadata": {},
     "output_type": "execute_result"
    }
   ],
   "source": [
    "df8 = pd.io.gbq.read_gbq('''\n",
    "  SELECT\n",
    "    call.name,\n",
    "    call.genotype[OFFSET(0)] g1,\n",
    "    call.genotype[OFFSET(1)] g2\n",
    "  FROM\n",
    "    `isb-cgc.QotM.1000genomes`\n",
    "  JOIN\n",
    "  UNNEST(call) AS call WITH OFFSET AS ci\n",
    "  WHERE\n",
    "    reference_name = '21'\n",
    "    AND start_position BETWEEN 37365790\n",
    "    AND 37517450\n",
    "  \n",
    " LIMIT 10''', project_id=project_id, verbose=False, dialect='standard')\n",
    "\n",
    "df8.head()\n"
   ]
  },
  {
   "cell_type": "markdown",
   "metadata": {
    "colab_type": "text",
    "id": "ThlsxJacZpbb"
   },
   "source": [
    "**In the above result, we have 11369475 rows, which (as hoped for) is the product of 2535 * 4485!**\n",
    "\n",
    "What we need now, is to match up the sample IDs, and genomic positions.\n",
    "\n",
    "Here's an example of what we're looking for:\n",
    "\n",
    "\n",
    "\n",
    "```\n",
    "  sample chr      pos   mut  g1 g2  \n",
    "HG00096  21 37424669  C->A   0  1 \n",
    "```\n",
    "\n",
    "See:  http://www.internationalgenome.org/data-portal/sample/HG00096\n",
    "\n",
    "\n",
    "Let's write a query to find it."
   ]
  },
  {
   "cell_type": "code",
   "execution_count": 12,
   "metadata": {
    "colab": {
     "base_uri": "https://localhost:8080/",
     "height": 97
    },
    "colab_type": "code",
    "id": "MqJveC6PawQv",
    "outputId": "6216a3ef-db41-4a60-b916-83b69e4ed633"
   },
   "outputs": [
    {
     "data": {
      "text/html": [
       "<div>\n",
       "<style scoped>\n",
       "    .dataframe tbody tr th:only-of-type {\n",
       "        vertical-align: middle;\n",
       "    }\n",
       "\n",
       "    .dataframe tbody tr th {\n",
       "        vertical-align: top;\n",
       "    }\n",
       "\n",
       "    .dataframe thead th {\n",
       "        text-align: right;\n",
       "    }\n",
       "</style>\n",
       "<table border=\"1\" class=\"dataframe\">\n",
       "  <thead>\n",
       "    <tr style=\"text-align: right;\">\n",
       "      <th></th>\n",
       "      <th>reference_name</th>\n",
       "      <th>start_position</th>\n",
       "      <th>name</th>\n",
       "      <th>g1</th>\n",
       "      <th>g2</th>\n",
       "    </tr>\n",
       "  </thead>\n",
       "  <tbody>\n",
       "    <tr>\n",
       "      <th>0</th>\n",
       "      <td>21</td>\n",
       "      <td>37424669</td>\n",
       "      <td>HG00096</td>\n",
       "      <td>0</td>\n",
       "      <td>1</td>\n",
       "    </tr>\n",
       "  </tbody>\n",
       "</table>\n",
       "</div>"
      ],
      "text/plain": [
       "  reference_name  start_position     name  g1  g2\n",
       "0             21        37424669  HG00096   0   1"
      ]
     },
     "execution_count": 12,
     "metadata": {},
     "output_type": "execute_result"
    }
   ],
   "source": [
    "df9 = pd.io.gbq.read_gbq('''\n",
    "WITH\n",
    "t1 as (\n",
    "SELECT\n",
    "    reference_name,\n",
    "    start_position,\n",
    "    call.name,\n",
    "    call.genotype[OFFSET(0)] g1,\n",
    "    call.genotype[OFFSET(1)] g2\n",
    "  FROM\n",
    "    `isb-cgc.QotM.1000genomes`\n",
    "  JOIN\n",
    "  UNNEST(call) AS call WITH OFFSET AS ci\n",
    "  WHERE\n",
    "    reference_name = '21'\n",
    "    AND start_position BETWEEN 37365790\n",
    "    AND 37517450\n",
    ")\n",
    "\n",
    "select * from t1 where name = 'HG00096' and start_position = 37424669\n",
    "\n",
    "''', project_id=project_id, verbose=False, dialect='standard')\n",
    "\n",
    "df9.head()\n",
    "\n"
   ]
  },
  {
   "cell_type": "markdown",
   "metadata": {
    "colab_type": "text",
    "id": "VHhn2PzcZppO"
   },
   "source": [
    "###**OK we should ready to answer the question: How many variants per sample in this gene?** \n",
    "\n"
   ]
  },
  {
   "cell_type": "code",
   "execution_count": 13,
   "metadata": {
    "colab": {
     "base_uri": "https://localhost:8080/",
     "height": 204
    },
    "colab_type": "code",
    "id": "i67HZWvBj1wm",
    "outputId": "82a38bae-af4b-42dd-8433-e930eb32dd6d"
   },
   "outputs": [
    {
     "data": {
      "text/html": [
       "<div>\n",
       "<style scoped>\n",
       "    .dataframe tbody tr th:only-of-type {\n",
       "        vertical-align: middle;\n",
       "    }\n",
       "\n",
       "    .dataframe tbody tr th {\n",
       "        vertical-align: top;\n",
       "    }\n",
       "\n",
       "    .dataframe thead th {\n",
       "        text-align: right;\n",
       "    }\n",
       "</style>\n",
       "<table border=\"1\" class=\"dataframe\">\n",
       "  <thead>\n",
       "    <tr style=\"text-align: right;\">\n",
       "      <th></th>\n",
       "      <th>sample</th>\n",
       "      <th>N</th>\n",
       "    </tr>\n",
       "  </thead>\n",
       "  <tbody>\n",
       "    <tr>\n",
       "      <th>0</th>\n",
       "      <td>HG03836</td>\n",
       "      <td>42</td>\n",
       "    </tr>\n",
       "    <tr>\n",
       "      <th>1</th>\n",
       "      <td>NA19669</td>\n",
       "      <td>75</td>\n",
       "    </tr>\n",
       "    <tr>\n",
       "      <th>2</th>\n",
       "      <td>HG00717</td>\n",
       "      <td>80</td>\n",
       "    </tr>\n",
       "    <tr>\n",
       "      <th>3</th>\n",
       "      <td>HG02655</td>\n",
       "      <td>85</td>\n",
       "    </tr>\n",
       "    <tr>\n",
       "      <th>4</th>\n",
       "      <td>HG02820</td>\n",
       "      <td>89</td>\n",
       "    </tr>\n",
       "  </tbody>\n",
       "</table>\n",
       "</div>"
      ],
      "text/plain": [
       "    sample   N\n",
       "0  HG03836  42\n",
       "1  NA19669  75\n",
       "2  HG00717  80\n",
       "3  HG02655  85\n",
       "4  HG02820  89"
      ]
     },
     "execution_count": 13,
     "metadata": {},
     "output_type": "execute_result"
    }
   ],
   "source": [
    "df10 = pd.io.gbq.read_gbq('''\n",
    "WITH\n",
    "t1 AS (\n",
    "SELECT\n",
    "    reference_name,\n",
    "    start_position,\n",
    "    call.name as sample,\n",
    "    call.genotype[OFFSET(0)] g1,\n",
    "    call.genotype[OFFSET(1)] g2\n",
    "  FROM\n",
    "    `isb-cgc.QotM.1000genomes`\n",
    "  JOIN\n",
    "  UNNEST(call) AS call WITH OFFSET AS ci\n",
    "  WHERE\n",
    "    reference_name = '21'\n",
    "    AND (start_position BETWEEN 37365790 AND 37517450)\n",
    "),\n",
    "\n",
    "t2 AS (\n",
    "  SELECT\n",
    "    sample,\n",
    "    COUNT(sample) as N\n",
    "  FROM\n",
    "    t1\n",
    "  WHERE\n",
    "    g1 = 1 OR g2 = 1\n",
    "  GROUP BY\n",
    "    sample\n",
    "  )\n",
    "\n",
    "select * from t2 GROUP BY N, sample ORDER BY N\n",
    "\n",
    "''', project_id=project_id, verbose=False, dialect='standard')\n",
    "\n",
    "df10.head()\n",
    "\n"
   ]
  },
  {
   "cell_type": "markdown",
   "metadata": {
    "colab_type": "text",
    "id": "awWUoYVQZpxQ"
   },
   "source": [
    "**In the above result, we have the expected 2,535 number of rows (for each sample).  The number of variants per sample ranges from 42 to 401.  Let's make a histogram.**"
   ]
  },
  {
   "cell_type": "code",
   "execution_count": 14,
   "metadata": {
    "colab": {
     "base_uri": "https://localhost:8080/",
     "height": 396
    },
    "colab_type": "code",
    "id": "A4P0KXrZmi6M",
    "outputId": "7376a2cf-dd07-4f44-856c-921a5cd62f27"
   },
   "outputs": [
    {
     "data": {
      "text/plain": [
       "array([[<AxesSubplot:title={'center':'N'}>]], dtype=object)"
      ]
     },
     "execution_count": 14,
     "metadata": {},
     "output_type": "execute_result"
    },
    {
     "data": {
      "image/png": "[encoded data removed]",
      "text/plain": [
       "<Figure size 432x288 with 1 Axes>"
      ]
     },
     "metadata": {
      "needs_background": "light"
     },
     "output_type": "display_data"
    }
   ],
   "source": [
    "df10.hist()"
   ]
  },
  {
   "cell_type": "markdown",
   "metadata": {
    "colab_type": "text",
    "id": "i-5KgIf1Zp3S"
   },
   "source": [
    "### **So we can see most samples have around 300 variants in this gene.**\n",
    "\n",
    "\n"
   ]
  },
  {
   "cell_type": "markdown",
   "metadata": {
    "colab_type": "text",
    "id": "814Jb5DGUvqY"
   },
   "source": [
    "### **How many variants within DYRK1A gene for a particular sample that are shared by no other samples. These variants are called private variants.**\n",
    "\n",
    "One way to do this would be to filter out variant positions that have a single sample ID associated with it."
   ]
  },
  {
   "cell_type": "code",
   "execution_count": 15,
   "metadata": {
    "colab": {
     "base_uri": "https://localhost:8080/",
     "height": 80
    },
    "colab_type": "code",
    "id": "v_eAFZ9DU6f5",
    "outputId": "59b5a709-a870-4a09-f700-f7b67a79aa8b"
   },
   "outputs": [
    {
     "data": {
      "text/html": [
       "<div>\n",
       "<style scoped>\n",
       "    .dataframe tbody tr th:only-of-type {\n",
       "        vertical-align: middle;\n",
       "    }\n",
       "\n",
       "    .dataframe tbody tr th {\n",
       "        vertical-align: top;\n",
       "    }\n",
       "\n",
       "    .dataframe thead th {\n",
       "        text-align: right;\n",
       "    }\n",
       "</style>\n",
       "<table border=\"1\" class=\"dataframe\">\n",
       "  <thead>\n",
       "    <tr style=\"text-align: right;\">\n",
       "      <th></th>\n",
       "      <th>private_vars</th>\n",
       "    </tr>\n",
       "  </thead>\n",
       "  <tbody>\n",
       "    <tr>\n",
       "      <th>0</th>\n",
       "      <td>1852</td>\n",
       "    </tr>\n",
       "  </tbody>\n",
       "</table>\n",
       "</div>"
      ],
      "text/plain": [
       "   private_vars\n",
       "0          1852"
      ]
     },
     "execution_count": 15,
     "metadata": {},
     "output_type": "execute_result"
    }
   ],
   "source": [
    "df10z = pd.io.gbq.read_gbq('''\n",
    "\n",
    "WITH\n",
    "t1 AS (\n",
    "SELECT\n",
    "    reference_name,\n",
    "    start_position,\n",
    "    call.name,\n",
    "    call.genotype[OFFSET(0)] g1,\n",
    "    call.genotype[OFFSET(1)] g2\n",
    "  FROM\n",
    "    `isb-cgc.QotM.1000genomes`\n",
    "  JOIN\n",
    "  UNNEST(call) AS call WITH OFFSET AS ci\n",
    "  WHERE\n",
    "    reference_name = '21'\n",
    "    AND (start_position BETWEEN 37365790 AND 37517450)\n",
    "),\n",
    "\n",
    "t2 AS (\n",
    "SELECT\n",
    "  start_position,\n",
    "  COUNT(start_position) as N\n",
    "FROM\n",
    "  t1\n",
    "WHERE\n",
    "  (g1 = 1 OR g2 = 1)\n",
    "GROUP BY\n",
    "  start_position \n",
    ")\n",
    "\n",
    "select COUNT(*) private_vars from t2 WHERE N = 1\n",
    "\n",
    "''', project_id=project_id, verbose=False, dialect='standard')\n",
    "\n",
    "df10z.head()\n"
   ]
  },
  {
   "cell_type": "markdown",
   "metadata": {
    "colab_type": "text",
    "id": "xT3pvBCbW-Ls"
   },
   "source": [
    "### **OK! The above result shows 1852 private variants out of 11,369,475 variants in our table.**"
   ]
  },
  {
   "cell_type": "markdown",
   "metadata": {
    "colab_type": "text",
    "id": "mkTI-bsjqOc9"
   },
   "source": [
    "### **Finally, let's do some statistics!  Let's do Z-scores. Now we could just work with the pandas table we already have, but for the example, let's do it in BigQuery.**"
   ]
  },
  {
   "cell_type": "code",
   "execution_count": 16,
   "metadata": {
    "colab": {
     "base_uri": "https://localhost:8080/",
     "height": 204
    },
    "colab_type": "code",
    "id": "ormLk6thqTE0",
    "outputId": "8dd15854-0bc6-4649-e153-115a38916f86"
   },
   "outputs": [
    {
     "data": {
      "text/html": [
       "<div>\n",
       "<style scoped>\n",
       "    .dataframe tbody tr th:only-of-type {\n",
       "        vertical-align: middle;\n",
       "    }\n",
       "\n",
       "    .dataframe tbody tr th {\n",
       "        vertical-align: top;\n",
       "    }\n",
       "\n",
       "    .dataframe thead th {\n",
       "        text-align: right;\n",
       "    }\n",
       "</style>\n",
       "<table border=\"1\" class=\"dataframe\">\n",
       "  <thead>\n",
       "    <tr style=\"text-align: right;\">\n",
       "      <th></th>\n",
       "      <th>sample</th>\n",
       "      <th>N</th>\n",
       "      <th>avgn</th>\n",
       "      <th>stddevn</th>\n",
       "      <th>Z_score</th>\n",
       "    </tr>\n",
       "  </thead>\n",
       "  <tbody>\n",
       "    <tr>\n",
       "      <th>0</th>\n",
       "      <td>NA19010</td>\n",
       "      <td>278</td>\n",
       "      <td>275.190533</td>\n",
       "      <td>58.873981</td>\n",
       "      <td>0.047720</td>\n",
       "    </tr>\n",
       "    <tr>\n",
       "      <th>1</th>\n",
       "      <td>HG02147</td>\n",
       "      <td>275</td>\n",
       "      <td>275.190533</td>\n",
       "      <td>58.873981</td>\n",
       "      <td>-0.003236</td>\n",
       "    </tr>\n",
       "    <tr>\n",
       "      <th>2</th>\n",
       "      <td>HG03378</td>\n",
       "      <td>329</td>\n",
       "      <td>275.190533</td>\n",
       "      <td>58.873981</td>\n",
       "      <td>0.913977</td>\n",
       "    </tr>\n",
       "    <tr>\n",
       "      <th>3</th>\n",
       "      <td>HG03370</td>\n",
       "      <td>222</td>\n",
       "      <td>275.190533</td>\n",
       "      <td>58.873981</td>\n",
       "      <td>-0.903464</td>\n",
       "    </tr>\n",
       "    <tr>\n",
       "      <th>4</th>\n",
       "      <td>NA18633</td>\n",
       "      <td>308</td>\n",
       "      <td>275.190533</td>\n",
       "      <td>58.873981</td>\n",
       "      <td>0.557283</td>\n",
       "    </tr>\n",
       "  </tbody>\n",
       "</table>\n",
       "</div>"
      ],
      "text/plain": [
       "    sample    N        avgn    stddevn   Z_score\n",
       "0  NA19010  278  275.190533  58.873981  0.047720\n",
       "1  HG02147  275  275.190533  58.873981 -0.003236\n",
       "2  HG03378  329  275.190533  58.873981  0.913977\n",
       "3  HG03370  222  275.190533  58.873981 -0.903464\n",
       "4  NA18633  308  275.190533  58.873981  0.557283"
      ]
     },
     "execution_count": 16,
     "metadata": {},
     "output_type": "execute_result"
    }
   ],
   "source": [
    "df11 = pd.io.gbq.read_gbq('''\n",
    "WITH\n",
    "t1 AS (\n",
    "SELECT\n",
    "    reference_name,\n",
    "    start_position,\n",
    "    call.name as sample,\n",
    "    call.genotype[OFFSET(0)] g1,\n",
    "    call.genotype[OFFSET(1)] g2\n",
    "  FROM\n",
    "    `isb-cgc.QotM.1000genomes`\n",
    "  JOIN\n",
    "  UNNEST(call) AS call WITH OFFSET AS ci\n",
    "  WHERE\n",
    "    reference_name = '21'\n",
    "    AND (start_position BETWEEN 37365790 AND 37517450)\n",
    "),\n",
    "\n",
    "t2 AS (\n",
    "  SELECT\n",
    "    sample,\n",
    "    COUNT(sample) as N\n",
    "  FROM\n",
    "    t1\n",
    "  WHERE\n",
    "    g1 = 1 OR g2 = 1\n",
    "  GROUP BY\n",
    "    sample\n",
    "  ),\n",
    "\n",
    "t3 AS (\n",
    "SELECT\n",
    "  AVG(N) avgn, \n",
    "  STDDEV(N) stddevn\n",
    "FROM\n",
    "  t2\n",
    "), \n",
    "\n",
    "t4 AS (\n",
    "  SELECT\n",
    "    sample,\n",
    "    N,\n",
    "    avgn,\n",
    "    stddevn,\n",
    "    (N - avgn) / stddevn as Z_score\n",
    "  FROM\n",
    "    t2 CROSS JOIN t3\n",
    ")\n",
    "\n",
    "select * from t4\n",
    "''', project_id=project_id, verbose=False, dialect='standard')\n",
    "\n",
    "df11.head()"
   ]
  },
  {
   "cell_type": "code",
   "execution_count": 17,
   "metadata": {
    "colab": {
     "base_uri": "https://localhost:8080/",
     "height": 447
    },
    "colab_type": "code",
    "id": "pSOCbwAjsXE1",
    "outputId": "13891d7b-8212-4b1b-ec36-2996dee2db3c"
   },
   "outputs": [
    {
     "data": {
      "text/plain": [
       "array([[<AxesSubplot:title={'center':'N'}>,\n",
       "        <AxesSubplot:title={'center':'avgn'}>],\n",
       "       [<AxesSubplot:title={'center':'stddevn'}>,\n",
       "        <AxesSubplot:title={'center':'Z_score'}>]], dtype=object)"
      ]
     },
     "execution_count": 17,
     "metadata": {},
     "output_type": "execute_result"
    },
    {
     "data": {
      "image/png": "[encoded data removed]",
      "text/plain": [
       "<Figure size 432x288 with 4 Axes>"
      ]
     },
     "metadata": {
      "needs_background": "light"
     },
     "output_type": "display_data"
    }
   ],
   "source": [
    "df11.hist()"
   ]
  },
  {
   "cell_type": "markdown",
   "metadata": {
    "colab_type": "text",
    "id": "Kg78Hz_8w95E"
   },
   "source": []
  },
  {
   "cell_type": "markdown",
   "metadata": {
    "colab_type": "text",
    "id": "SbVMcj9EG8le"
   },
   "source": [
    "### **So, the above query calculated Z-scores for a single gene. Let's make another query where we construct a series of bins, one bin per million bases, and compute a Z-score per sample, per bin.**\n",
    "\n",
    "This is adapted from the Google tutorial (https://codelabs.developers.google.com/codelabs/genomics-vcfbq/index.html?index=..%2F..index#0\n",
    ")."
   ]
  },
  {
   "cell_type": "code",
   "execution_count": 18,
   "metadata": {
    "colab": {
     "base_uri": "https://localhost:8080/",
     "height": 204
    },
    "colab_type": "code",
    "id": "t1b_AIWRA4QZ",
    "outputId": "3098cd2e-af82-4bd7-c4c2-66e2ce8802e5"
   },
   "outputs": [
    {
     "data": {
      "text/html": [
       "<div>\n",
       "<style scoped>\n",
       "    .dataframe tbody tr th:only-of-type {\n",
       "        vertical-align: middle;\n",
       "    }\n",
       "\n",
       "    .dataframe tbody tr th {\n",
       "        vertical-align: top;\n",
       "    }\n",
       "\n",
       "    .dataframe thead th {\n",
       "        text-align: right;\n",
       "    }\n",
       "</style>\n",
       "<table border=\"1\" class=\"dataframe\">\n",
       "  <thead>\n",
       "    <tr style=\"text-align: right;\">\n",
       "      <th></th>\n",
       "      <th>sample</th>\n",
       "      <th>ind_n</th>\n",
       "      <th>z</th>\n",
       "      <th>ref</th>\n",
       "      <th>bin</th>\n",
       "      <th>pop_mu</th>\n",
       "      <th>pop_sigma</th>\n",
       "    </tr>\n",
       "  </thead>\n",
       "  <tbody>\n",
       "    <tr>\n",
       "      <th>0</th>\n",
       "      <td>HG02623</td>\n",
       "      <td>665</td>\n",
       "      <td>5.591835</td>\n",
       "      <td>21</td>\n",
       "      <td>10.0</td>\n",
       "      <td>515.824458</td>\n",
       "      <td>26.677389</td>\n",
       "    </tr>\n",
       "    <tr>\n",
       "      <th>1</th>\n",
       "      <td>HG02574</td>\n",
       "      <td>663</td>\n",
       "      <td>5.516865</td>\n",
       "      <td>21</td>\n",
       "      <td>10.0</td>\n",
       "      <td>515.824458</td>\n",
       "      <td>26.677389</td>\n",
       "    </tr>\n",
       "    <tr>\n",
       "      <th>2</th>\n",
       "      <td>HG02645</td>\n",
       "      <td>647</td>\n",
       "      <td>4.917106</td>\n",
       "      <td>21</td>\n",
       "      <td>10.0</td>\n",
       "      <td>515.824458</td>\n",
       "      <td>26.677389</td>\n",
       "    </tr>\n",
       "    <tr>\n",
       "      <th>3</th>\n",
       "      <td>HG01384</td>\n",
       "      <td>840</td>\n",
       "      <td>-4.729486</td>\n",
       "      <td>21</td>\n",
       "      <td>39.0</td>\n",
       "      <td>1712.270611</td>\n",
       "      <td>184.432426</td>\n",
       "    </tr>\n",
       "    <tr>\n",
       "      <th>4</th>\n",
       "      <td>HG03867</td>\n",
       "      <td>992</td>\n",
       "      <td>-4.715188</td>\n",
       "      <td>21</td>\n",
       "      <td>15.0</td>\n",
       "      <td>1923.495069</td>\n",
       "      <td>197.552059</td>\n",
       "    </tr>\n",
       "  </tbody>\n",
       "</table>\n",
       "</div>"
      ],
      "text/plain": [
       "    sample  ind_n         z ref   bin       pop_mu   pop_sigma\n",
       "0  HG02623    665  5.591835  21  10.0   515.824458   26.677389\n",
       "1  HG02574    663  5.516865  21  10.0   515.824458   26.677389\n",
       "2  HG02645    647  4.917106  21  10.0   515.824458   26.677389\n",
       "3  HG01384    840 -4.729486  21  39.0  1712.270611  184.432426\n",
       "4  HG03867    992 -4.715188  21  15.0  1923.495069  197.552059"
      ]
     },
     "execution_count": 18,
     "metadata": {},
     "output_type": "execute_result"
    }
   ],
   "source": [
    "\n",
    "df13 = pd.io.gbq.read_gbq('''\n",
    "\n",
    "#standardsql\n",
    "WITH ind AS (\n",
    "  -- count variants for each sample/ref/bin\n",
    "  SELECT\n",
    "    call.name AS sample, \n",
    "    reference_name AS ref, \n",
    "    FLOOR(start_position/1000000) AS bin, \n",
    "    COUNT(call.name) AS n\n",
    "  FROM `isb-cgc.QotM.1000genomes` \n",
    "  JOIN UNNEST(call) AS call\n",
    "  JOIN UNNEST(alternate_bases) AS alt\n",
    "  WHERE alt.alt != '<*>'\n",
    "    AND (call.genotype[OFFSET(0)] = 1 OR call.genotype[OFFSET(1)] = 1)\n",
    "  GROUP BY sample, ref, bin\n",
    "),\n",
    "\n",
    "pop AS (\n",
    "  -- overall all samples in ref/bin\n",
    "  SELECT \n",
    "    ref, \n",
    "    bin, \n",
    "    AVG(n) AS pop_mu, \n",
    "    STDDEV(n) AS pop_sigma\n",
    "  FROM ind\n",
    "  GROUP BY ref, bin\n",
    "),\n",
    "\n",
    "zscore AS (\n",
    "  SELECT \n",
    "    ind.sample, \n",
    "    ind.n AS ind_n,\n",
    "    (ind.n-pop.pop_mu)/pop.pop_sigma AS z, \n",
    "    pop.ref, \n",
    "    pop.bin, \n",
    "    pop.pop_mu, \n",
    "    pop.pop_sigma\n",
    "  FROM pop, ind\n",
    "  WHERE ind.ref = pop.ref AND ind.bin = pop.bin\n",
    ")\n",
    "\n",
    "SELECT * from zscore\n",
    "ORDER BY ABS(Z) DESC\n",
    "\n",
    "''', project_id=project_id, verbose=False, dialect='standard')        \n",
    "   \n",
    "df13.head()\n",
    "\n",
    "\n"
   ]
  },
  {
   "cell_type": "code",
   "execution_count": 19,
   "metadata": {
    "colab": {
     "base_uri": "https://localhost:8080/",
     "height": 617
    },
    "colab_type": "code",
    "id": "zVJu5ojlCxfK",
    "outputId": "09e40cd2-c104-49b0-aaf6-7d274729b4ad"
   },
   "outputs": [
    {
     "data": {
      "text/plain": [
       "array([[<AxesSubplot:title={'center':'ind_n'}>,\n",
       "        <AxesSubplot:title={'center':'z'}>],\n",
       "       [<AxesSubplot:title={'center':'bin'}>,\n",
       "        <AxesSubplot:title={'center':'pop_mu'}>],\n",
       "       [<AxesSubplot:title={'center':'pop_sigma'}>, <AxesSubplot:>]],\n",
       "      dtype=object)"
      ]
     },
     "execution_count": 19,
     "metadata": {},
     "output_type": "execute_result"
    },
    {
     "data": {
      "image/png": "[encoded data removed]",
      "text/plain": [
       "<Figure size 432x576 with 6 Axes>"
      ]
     },
     "metadata": {
      "needs_background": "light"
     },
     "output_type": "display_data"
    }
   ],
   "source": [
    "import matplotlib\n",
    "matplotlib.rcParams['figure.figsize'] = [6, 8]\n",
    "\n",
    "df13.hist()"
   ]
  },
  {
   "cell_type": "markdown",
   "metadata": {
    "colab_type": "text",
    "id": "ocOT6GkbmVUi"
   },
   "source": [
    "### **But what about the case when you have mulple alleles?**\n",
    "\n",
    "\n",
    "\n",
    "\n",
    "\n",
    "To work with that, we need to select the right alternate allele using the genotype calls.\n",
    "\n"
   ]
  },
  {
   "cell_type": "code",
   "execution_count": 20,
   "metadata": {
    "colab": {
     "base_uri": "https://localhost:8080/",
     "height": 80
    },
    "colab_type": "code",
    "id": "lC00C1RYCyzs",
    "outputId": "556230a1-5135-48fd-858f-914c1bab367f"
   },
   "outputs": [
    {
     "data": {
      "text/html": [
       "<div>\n",
       "<style scoped>\n",
       "    .dataframe tbody tr th:only-of-type {\n",
       "        vertical-align: middle;\n",
       "    }\n",
       "\n",
       "    .dataframe tbody tr th {\n",
       "        vertical-align: top;\n",
       "    }\n",
       "\n",
       "    .dataframe thead th {\n",
       "        text-align: right;\n",
       "    }\n",
       "</style>\n",
       "<table border=\"1\" class=\"dataframe\">\n",
       "  <thead>\n",
       "    <tr style=\"text-align: right;\">\n",
       "      <th></th>\n",
       "      <th>chr</th>\n",
       "      <th>start_position</th>\n",
       "      <th>reference_bases</th>\n",
       "      <th>alt1</th>\n",
       "      <th>alt2</th>\n",
       "      <th>name</th>\n",
       "      <th>g1</th>\n",
       "      <th>g2</th>\n",
       "    </tr>\n",
       "  </thead>\n",
       "  <tbody>\n",
       "    <tr>\n",
       "      <th>0</th>\n",
       "      <td>21</td>\n",
       "      <td>34434667</td>\n",
       "      <td>G</td>\n",
       "      <td>T</td>\n",
       "      <td>G</td>\n",
       "      <td>HG00119</td>\n",
       "      <td>2</td>\n",
       "      <td>0</td>\n",
       "    </tr>\n",
       "  </tbody>\n",
       "</table>\n",
       "</div>"
      ],
      "text/plain": [
       "  chr  start_position reference_bases alt1 alt2     name  g1  g2\n",
       "0  21        34434667               G    T    G  HG00119   2   0"
      ]
     },
     "execution_count": 20,
     "metadata": {},
     "output_type": "execute_result"
    }
   ],
   "source": [
    "df14 = pd.io.gbq.read_gbq('''\n",
    "\n",
    "SELECT\n",
    "reference_name as chr,\n",
    "start_position,\n",
    "reference_bases ,\n",
    "--\n",
    "--  if the genotype is 0, it's a ref call\n",
    "--  else use the genotype call to index the alternative base\n",
    "--\n",
    "IF( (call.genotype[OFFSET(0)] = 0), \n",
    "     reference_bases, \n",
    "     alternate_bases[OFFSET(call.genotype[OFFSET(0)] - 1)].alt ) as alt1,\n",
    "--\n",
    "--\n",
    "IF( (call.genotype[OFFSET(1)] = 0), \n",
    "     reference_bases, \n",
    "     alternate_bases[OFFSET(call.genotype[OFFSET(1)] - 1)].alt ) AS alt2,\n",
    "--\n",
    "--  then we're still unnesting a single column.\n",
    "--\n",
    "call.name,\n",
    "call.genotype[OFFSET(0)] AS g1,\n",
    "call.genotype[OFFSET(1)] AS g2\n",
    "FROM\n",
    "  `isb-cgc.QotM.1000genomes`\n",
    "JOIN\n",
    "  UNNEST(call) as call\n",
    "WHERE\n",
    "  reference_name = '21'\n",
    "  AND call.name = 'HG00119'\n",
    "  AND start_position = 34434667\n",
    "\n",
    "''', project_id=project_id, verbose=False, dialect='standard'\n",
    ")\n",
    "\n",
    "df14.head()\n",
    "\n"
   ]
  }
 ],
 "metadata": {
  "colab": {
   "collapsed_sections": [],
   "include_colab_link": true,
   "name": "ISB-CGC-Query_of_the_Month-November-2018.ipynb",
   "provenance": [],
   "version": "0.3.2"
  },
  "kernelspec": {
   "display_name": "Python 3",
   "language": "python",
   "name": "python3"
  },
  "language_info": {
   "codemirror_mode": {
    "name": "ipython",
    "version": 3
   },
   "file_extension": ".py",
   "mimetype": "text/x-python",
   "name": "python",
   "nbconvert_exporter": "python",
   "pygments_lexer": "ipython3",
   "version": "3.7.9"
  },
  "toc": {
   "base_numbering": 1,
   "nav_menu": {},
   "number_sections": true,
   "sideBar": true,
   "skip_h1_title": false,
   "title_cell": "Table of Contents",
   "title_sidebar": "Contents",
   "toc_cell": false,
   "toc_position": {},
   "toc_section_display": true,
   "toc_window_display": false
  }
 },
 "nbformat": 4,
 "nbformat_minor": 1
}
